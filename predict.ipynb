{
 "cells": [
  {
   "cell_type": "markdown",
   "metadata": {},
   "source": [
    "When the model is done, I will **load** it here and perform some tests on data"
   ]
  },
  {
   "cell_type": "code",
   "execution_count": 11,
   "metadata": {},
   "outputs": [],
   "source": [
    "import pickle\n",
    "from keras.models import load_model\n",
    "from keras.preprocessing import sequence\n",
    "from keras.preprocessing.text import text_to_word_sequence"
   ]
  },
  {
   "cell_type": "code",
   "execution_count": 12,
   "metadata": {},
   "outputs": [],
   "source": [
    "# Define constants\n",
    "vocab_size = 1000\n",
    "maxlen = 100\n",
    "embedding_dims = 50\n",
    "filters = 250\n",
    "kernel_size = 3\n",
    "hidden_dims = 100"
   ]
  },
  {
   "cell_type": "markdown",
   "metadata": {},
   "source": [
    "Load **tokenizer** & **model**"
   ]
  },
  {
   "cell_type": "code",
   "execution_count": 13,
   "metadata": {},
   "outputs": [],
   "source": [
    "with open('./tokenizer/tokenizer.pickle', 'rb') as handle:\n",
    "    tokenizer = pickle.load(handle)\n",
    "\n",
    "model = load_model('models/hate-v3-CNN-2.h5')"
   ]
  },
  {
   "cell_type": "code",
   "execution_count": 14,
   "metadata": {},
   "outputs": [],
   "source": [
    "\n",
    "# Function to preprocess input phrase\n",
    "def preprocess_input_phrase(input_phrase):\n",
    "    # Tokenize and pad the input phrase\n",
    "    input_sequence = tokenizer.texts_to_matrix([input_phrase])\n",
    "    input_sequence = sequence.pad_sequences(input_sequence, maxlen=maxlen)\n",
    "    return input_sequence\n",
    "\n",
    "# Function to make predictions\n",
    "def make_prediction(input_phrase):\n",
    "    preprocessed_input = preprocess_input_phrase(input_phrase)\n",
    "    prediction = model.predict(preprocessed_input, verbose = 0)\n",
    "    return prediction[0, 0]  # Assuming binary classification, adjust accordingly if needed\n",
    "\n",
    "\n"
   ]
  },
  {
   "cell_type": "code",
   "execution_count": 19,
   "metadata": {},
   "outputs": [
    {
     "name": "stdout",
     "output_type": "stream",
     "text": [
      "Prediction: 0.5012159\n"
     ]
    }
   ],
   "source": [
    "# Example usage\n",
    "input_phrase = \"hello\"\n",
    "prediction_result = make_prediction(input_phrase)\n",
    "print(\"Prediction:\", prediction_result)"
   ]
  }
 ],
 "metadata": {
  "kernelspec": {
   "display_name": "Python 3",
   "language": "python",
   "name": "python3"
  },
  "language_info": {
   "codemirror_mode": {
    "name": "ipython",
    "version": 3
   },
   "file_extension": ".py",
   "mimetype": "text/x-python",
   "name": "python",
   "nbconvert_exporter": "python",
   "pygments_lexer": "ipython3",
   "version": "3.10.12"
  }
 },
 "nbformat": 4,
 "nbformat_minor": 2
}
