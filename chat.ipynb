{
 "cells": [
  {
   "cell_type": "markdown",
   "metadata": {},
   "source": [
    "First Goal is to make the computer understand the language<br>\n",
    "\n",
    "Here are the steps\n",
    "\n",
    "1. Sentence segmentation\n",
    "2. Word tokenization\n",
    "3. Stemming\n",
    "4. Dependency parsing\n",
    "5. Part-of-speech (POS) tagging"
   ]
  },
  {
   "cell_type": "code",
   "execution_count": 1,
   "metadata": {},
   "outputs": [
    {
     "name": "stderr",
     "output_type": "stream",
     "text": [
      "2024-01-09 08:43:33.083953: I tensorflow/tsl/cuda/cudart_stub.cc:28] Could not find cuda drivers on your machine, GPU will not be used.\n",
      "2024-01-09 08:43:33.988661: E tensorflow/compiler/xla/stream_executor/cuda/cuda_dnn.cc:9342] Unable to register cuDNN factory: Attempting to register factory for plugin cuDNN when one has already been registered\n",
      "2024-01-09 08:43:33.988740: E tensorflow/compiler/xla/stream_executor/cuda/cuda_fft.cc:609] Unable to register cuFFT factory: Attempting to register factory for plugin cuFFT when one has already been registered\n",
      "2024-01-09 08:43:33.997240: E tensorflow/compiler/xla/stream_executor/cuda/cuda_blas.cc:1518] Unable to register cuBLAS factory: Attempting to register factory for plugin cuBLAS when one has already been registered\n",
      "2024-01-09 08:43:34.617935: I tensorflow/tsl/cuda/cudart_stub.cc:28] Could not find cuda drivers on your machine, GPU will not be used.\n",
      "2024-01-09 08:43:34.624335: I tensorflow/core/platform/cpu_feature_guard.cc:182] This TensorFlow binary is optimized to use available CPU instructions in performance-critical operations.\n",
      "To enable the following instructions: AVX2 FMA, in other operations, rebuild TensorFlow with the appropriate compiler flags.\n",
      "2024-01-09 08:43:37.680735: W tensorflow/compiler/tf2tensorrt/utils/py_utils.cc:38] TF-TRT Warning: Could not find TensorRT\n"
     ]
    }
   ],
   "source": [
    "import numpy as np\n",
    "from nltk.stem.snowball import SnowballStemmer\n",
    "from nltk.stem import WordNetLemmatizer\n",
    "import matplotlib.pyplot as plt\n",
    "import re\n",
    "import spacy\n",
    "from keras.models import Sequential\n",
    "from keras.layers import Dense\n",
    "from spacy import displacy\n",
    "import nltk\n",
    "from nltk.parse.dependencygraph import DependencyGraph\n",
    "from prettytable import PrettyTable\n",
    "from sklearn.model_selection import train_test_split"
   ]
  },
  {
   "cell_type": "markdown",
   "metadata": {},
   "source": [
    "**Prepare a proper storage**"
   ]
  },
  {
   "cell_type": "code",
   "execution_count": 2,
   "metadata": {},
   "outputs": [],
   "source": [
    "class Tweet:\n",
    "    def __init__(self, count, hate_speech_count, offensive_language_count, neither_count, classs, tweet):\n",
    "        \"\"\"\n",
    "        - count (int): The total count of the tweet.\n",
    "        - hate (int): The count of hate speech in the tweet.\n",
    "        - offensive (int): The count of offensive language in the tweet.\n",
    "        - neither (int): The count of content classified as neither hate speech nor offensive.\n",
    "        - classs (str): The classification of the tweet.\n",
    "        - tweet (str): The text content of the tweet.\n",
    "        \"\"\"\n",
    "        self.count = count\n",
    "        self.hate = hate_speech_count\n",
    "        self.offensive = offensive_language_count\n",
    "        self.neither = neither_count\n",
    "        self.classs = classs\n",
    "        self.tweet = tweet\n",
    "        self.stems = []\n",
    "        self.tokens = []\n",
    "        self.code = []\n",
    "        self.tags = []\n",
    "        self.t_code = []\n",
    "\n",
    "    def __str__(self):\n",
    "        return f\"{self.count} ; {self.hate} ; {self.offensive} ; {self.neither} ; {self.classs} ;; {self.tweet}\"\n",
    "    \n",
    "    def peacefullness(self):\n",
    "        return self.neither_count / self.count\n",
    "    \n",
    "    def offensiveness(self):\n",
    "        return self.offensive / self.count\n",
    "    \n",
    "    def hateness(self):\n",
    "        return self.hate / self.count"
   ]
  },
  {
   "cell_type": "markdown",
   "metadata": {},
   "source": [
    "**Load the data**"
   ]
  },
  {
   "cell_type": "code",
   "execution_count": 3,
   "metadata": {},
   "outputs": [],
   "source": [
    "Tweets = []"
   ]
  },
  {
   "cell_type": "code",
   "execution_count": 4,
   "metadata": {},
   "outputs": [],
   "source": [
    "with open('./archive/train.csv', 'r+') as file:\n",
    "    previous_line = ''\n",
    "\n",
    "    # Initialize a list to accumulate the modified content\n",
    "    final_content_lines = []\n",
    "\n",
    "    # Read and accumulate non-empty lines\n",
    "    for line in file:\n",
    "        stripped_line = line.strip()\n",
    "\n",
    "        if stripped_line and stripped_line[0].isdigit():\n",
    "            # If the current line is not empty and starts with an integer, accumulate it\n",
    "            final_content_lines.append(stripped_line)\n",
    "            previous_line = stripped_line\n",
    "        else:\n",
    "            # If the current line doesn't start with an integer, append it to the previous line\n",
    "            previous_line += stripped_line"
   ]
  },
  {
   "cell_type": "code",
   "execution_count": 5,
   "metadata": {},
   "outputs": [],
   "source": [
    "for line in final_content_lines:\n",
    "    \n",
    "    comma_indices = [index for index, char in enumerate(line) if char == ',']\n",
    "\n",
    "    # Extracting substrings between commas\n",
    "    count_str = line[0:comma_indices[0]].strip()\n",
    "    hate_str = line[comma_indices[0]+1:comma_indices[1]].strip()\n",
    "    offensive_str = line[comma_indices[1]+1:comma_indices[2]].strip()\n",
    "    neither_str = line[comma_indices[2]+1:comma_indices[3]].strip()\n",
    "    classs_str = line[comma_indices[3]+1:comma_indices[4]].strip()\n",
    "    tweet_str = line[comma_indices[4]+1:].strip()\n",
    "\n",
    "    # Converting to integers\n",
    "    count = int(count_str) if count_str.isdigit() else None\n",
    "    hate = int(hate_str) if hate_str.isdigit() else None\n",
    "    offensive = int(offensive_str) if offensive_str.isdigit() else None\n",
    "    neither = int(neither_str) if neither_str.isdigit() else None\n",
    "    classs = int(classs_str) if classs_str.isdigit() else None\n",
    "\n",
    "    # Creating an instance of the Tweet class\n",
    "    tweet_instance = Tweet(count, hate, offensive, neither, classs_str, tweet_str)\n",
    "\n",
    "    # Append the tweet instance to a list or do whatever you need to do with it\n",
    "    Tweets.append(tweet_instance)"
   ]
  },
  {
   "cell_type": "code",
   "execution_count": 6,
   "metadata": {},
   "outputs": [
    {
     "name": "stdout",
     "output_type": "stream",
     "text": [
      "3 ; 0 ; 0 ; 3 ; 2 ;; !!! RT @mayasolovely: As a woman you shouldn't complain about cleaning up your house. &amp; as a man you should always take the trash out...\n",
      "3 ; 0 ; 3 ; 0 ; 1 ;; !!!!! RT @mleew17: boy dats cold...tyga dwn bad for cuffin dat hoe in the 1st place!!\n",
      "3 ; 0 ; 3 ; 0 ; 1 ;; !!!!!!! RT @UrKindOfBrand Dawg!!!! RT @80sbaby4life: You ever fuck a bitch and she start to cry? You be confused as shit\n",
      "3 ; 0 ; 2 ; 1 ; 1 ;; !!!!!!!!! RT @C_G_Anderson: @viva_based she look like a tranny\n",
      "6 ; 0 ; 6 ; 0 ; 1 ;; !!!!!!!!!!!!! RT @ShenikaRoberts: The shit you hear about me might be true or it might be faker than the bitch who told it to ya &#57361;\n",
      "3 ; 1 ; 2 ; 0 ; 1 ;; \"!!!!!!!!!!!!!!!!!!\"\"@T_Madison_x: The shit just blows me..claim you so faithful and down for somebody but still fucking with hoes! &#128514;&#128514;&#128514;\"\"\"\n",
      "3 ; 0 ; 3 ; 0 ; 1 ;; \"!!!!!!\"\"@__BrighterDays: I can not just sit up and HATE on another bitch .. I got too much shit going on!\"\"\"\n",
      "3 ; 0 ; 3 ; 0 ; 1 ;; !!!!&#8220;@selfiequeenbri: cause I'm tired of you big bitches coming for us skinny girls!!&#8221;\n",
      "3 ; 0 ; 3 ; 0 ; 1 ;; \"\"\" &amp; you might not get ya bitch back &amp; thats that \"\"\"\n",
      "3 ; 1 ; 2 ; 0 ; 1 ;; \"\"\" @rhythmixx_ :hobbies include: fighting Mariam\"\"\n"
     ]
    }
   ],
   "source": [
    "for t in Tweets[:10]:\n",
    "    print(t)"
   ]
  },
  {
   "cell_type": "markdown",
   "metadata": {},
   "source": [
    "**Tweet formatting**"
   ]
  },
  {
   "cell_type": "markdown",
   "metadata": {},
   "source": [
    "remove all points when it's not the end of a sentence"
   ]
  },
  {
   "cell_type": "code",
   "execution_count": 7,
   "metadata": {},
   "outputs": [],
   "source": [
    "def remove_points(line):\n",
    "    l = list(line)\n",
    "\n",
    "    for i in range(len(l)):\n",
    "        if i < len(l) - 2 and l[i] == '.' and 'A' <= l[i+2] <= 'Z':\n",
    "            l[i] = ' '\n",
    "\n",
    "    line = ' '.join(l)"
   ]
  },
  {
   "cell_type": "markdown",
   "metadata": {},
   "source": [
    "apply first format"
   ]
  },
  {
   "cell_type": "markdown",
   "metadata": {},
   "source": [
    "Let's change:\n",
    "- all `@<username>` to `username`\n",
    "- all URLs to `weblink`\n",
    "- all `&amp` to `&`"
   ]
  },
  {
   "cell_type": "code",
   "execution_count": 8,
   "metadata": {},
   "outputs": [],
   "source": [
    "for t in Tweets:\n",
    "    t.tweet = re.sub(r'@([a-zA-Z0-9_]+)', 'username', t.tweet).replace('username:', '') # replace first username\n",
    "    t.tweet = re.sub(r'http?://\\S+', 'weblink', t.tweet)\n",
    "    t.tweet = re.sub(r'&amp', '&', t.tweet)\n",
    "\n",
    "    if t.tweet and t.tweet[0] == '.':\n",
    "        t.tweet = t.tweet[1:]"
   ]
  },
  {
   "cell_type": "code",
   "execution_count": 9,
   "metadata": {},
   "outputs": [
    {
     "name": "stdout",
     "output_type": "stream",
     "text": [
      "3 ; 0 ; 0 ; 3 ; 2 ;; As a woman you shouldnt complain about cleaning up your house. & as a man you should always take the trash out.\n",
      "3 ; 0 ; 3 ; 0 ; 1 ;; boy dats cold.tyga dwn bad for cuffin dat hoe in the 1st place \n",
      "3 ; 0 ; 3 ; 0 ; 1 ;; username Dawg You ever fuck a bitch & she start to cry. You be confused as shit\n",
      "3 ; 0 ; 2 ; 1 ; 1 ;; username she look like a tranny\n",
      "6 ; 0 ; 6 ; 0 ; 1 ;; The shit you hear about me might be true or it might be faker than the bitch who told it to ya 57361 \n",
      "3 ; 1 ; 2 ; 0 ; 1 ;;  The shit just blows me.claim you so faithful & down for somebody but still fucking with hoes 128514 128514 128514 \n",
      "3 ; 0 ; 3 ; 0 ; 1 ;; I can not just sit up & HATE on another bitch. I got too much shit going on \n",
      "3 ; 0 ; 3 ; 0 ; 1 ;; 8220 cause Im tired of you big bitches coming for us skinny girls 8221 \n",
      "3 ; 0 ; 3 ; 0 ; 1 ;; & you might not get ya bitch back & thats that \n",
      "3 ; 1 ; 2 ; 0 ; 1 ;; username :hobbies include: fighting Mariam\n"
     ]
    }
   ],
   "source": [
    "for t in Tweets:\n",
    "    remove_points(t.tweet)\n",
    "    t.tweet = t.tweet   .replace('RT', '').replace('!', ' ').replace('\"', '').replace(\"\\n\", ' ')\\\n",
    "                        .replace(';', ' ').replace('-', ' ').replace(' and ', ' & ').replace('\\'', '')\\\n",
    "                        .replace('?', '.').replace(',', '').replace('~', ' ').replace('|', ' ').replace('°', ' ')\\\n",
    "                        .replace('`', ' ').replace('~', ' ').replace('*', ' ').replace('+', ' ').replace('/', ' ')\\\n",
    "                        .replace(' # ', ' ').replace('http', ' ').replace('t.co', ' ').replace('\\\\', ' ').replace('&#', ' ')\n",
    "    for _ in range(4):\n",
    "        t.tweet = t.tweet.replace('  ', ' ').replace('..', '.').replace(' .', '.') # remove multiple points & space\n",
    "    \n",
    "    if t.tweet and t.tweet[0] == ' ':\n",
    "        t.tweet = t.tweet[1:]\n",
    "\n",
    "\n",
    "for t in Tweets[:10]:\n",
    "    print(t)\n"
   ]
  },
  {
   "cell_type": "markdown",
   "metadata": {},
   "source": [
    "Change everything in **lowercase**"
   ]
  },
  {
   "cell_type": "code",
   "execution_count": 10,
   "metadata": {},
   "outputs": [],
   "source": [
    "for t in Tweets:\n",
    "    t.tweet = t.tweet.lower()"
   ]
  },
  {
   "cell_type": "markdown",
   "metadata": {},
   "source": [
    "Change some **abbreviations**<br>\n",
    "Here it is important not to change all abbreviations. some abbreviations are used by 50% of population. our model will think they are different if we don't change those 50% - 50% to a 100% unique expressions. But on the other hand, some are used by all the population (eg. `lol`) so we can keep them"
   ]
  },
  {
   "cell_type": "code",
   "execution_count": 11,
   "metadata": {},
   "outputs": [],
   "source": [
    "abbr = {\n",
    "    'ninstagram'        : 'instagram',\n",
    "    'instagramgram'     : 'instagram',\n",
    "    'ig'                : 'instagram',\n",
    "    'strainstagramht'   : 'instagram',\n",
    "    'insta'             : 'instagram',\n",
    "    'rinstagramht'      : 'instagram',\n",
    "    'ninstagramguh'     : 'instagram',\n",
    "    'instagramz'        : 'instagram',\n",
    "    'sinstagramn'       : 'instagram',\n",
    "    'binstagramgest'    : 'instagram',\n",
    "    'pinstagram'        : 'instagram',\n",
    "    'linstagramht'      : 'instagram',\n",
    "    'ninstagramg'       : 'instagram',\n",
    "    'instagramh'        : 'instagram',\n",
    "    'instagramnor'      : 'instagram',\n",
    "    'ninstagramht'      : 'instagram',\n",
    "    'ninstagramgramga'  : 'instagram',\n",
    "    'finstagramht'      : 'instagram',\n",
    "    'binstagram'        : 'instagram',\n",
    "    'hinstagramh'       : 'instagram',\n",
    "    'ninstagramga'      : 'instagram',\n",
    "    'toninstagramht'    : 'instagram',\n",
    "    'minstagramht'      : 'instagram',\n",
    "    'minstagramt'       : 'instagram',\n",
    "    'dwn'               : 'down',\n",
    "    'dawn'              : 'down',\n",
    "    'ta'                : 'that',\n",
    "    'dat'               : 'that',\n",
    "    'dawg'              : 'dude',\n",
    "    'smh'               : 'head',\n",
    "    'fr'                : 'real',\n",
    "    'plz'               : 'please',\n",
    "    'tf'                : 'wtf',\n",
    "    'theyr'             : 'are',\n",
    "    'bc'                : 'because',\n",
    "    'af'                : 'lot',\n",
    "    'u'                 : 'you',\n",
    "    'ppl'               : 'people',\n",
    "    'dm'                : 'message',\n",
    "    'bf'                : 'friend',\n",
    "    'gt'                : 'getting',\n",
    "    'ya'                : 'yes',\n",
    "    'na'                : 'no',\n",
    "    'ur'                : 'your',\n",
    "    'tryna'             : 'to',\n",
    "    'lmfao'             : 'lmao',\n",
    "    'ive'               : 'have'\n",
    "}"
   ]
  },
  {
   "cell_type": "markdown",
   "metadata": {},
   "source": [
    "Apply the modification "
   ]
  },
  {
   "cell_type": "code",
   "execution_count": 12,
   "metadata": {},
   "outputs": [],
   "source": [
    "for t in Tweets:\n",
    "    for old in abbr:\n",
    "        new = abbr[old]\n",
    "        t.tweet = t.tweet.replace( ' ' + old + ' ', ' ' + new + ' ' ) # add some space arround the world to avoid matching a part of a word"
   ]
  },
  {
   "cell_type": "markdown",
   "metadata": {},
   "source": [
    "Create a function that reduce the **repetitions** (people use to add a lot of letters of type a lot of emojis)<br>This reduce the data to handle"
   ]
  },
  {
   "cell_type": "code",
   "execution_count": 13,
   "metadata": {},
   "outputs": [],
   "source": [
    "def reduce_repetition(s):\n",
    "    # Use regular expression to find repeated substrings\n",
    "    pattern = re.compile(r'(.+?)\\1{%d,}' % 2)\n",
    "    match = pattern.search(s)\n",
    "\n",
    "    # Reduce repetition to two occurrences\n",
    "    while match:\n",
    "        repeated_substring = match.group(1)\n",
    "        s = s.replace(match.group(), repeated_substring, 1)\n",
    "        match = pattern.search(s)\n",
    "\n",
    "    return s"
   ]
  },
  {
   "cell_type": "code",
   "execution_count": 14,
   "metadata": {},
   "outputs": [],
   "source": [
    "for t in Tweets:\n",
    "    t.tweet = reduce_repetition(t.tweet)"
   ]
  },
  {
   "cell_type": "markdown",
   "metadata": {},
   "source": [
    "**Tokenisation**"
   ]
  },
  {
   "cell_type": "code",
   "execution_count": 15,
   "metadata": {},
   "outputs": [],
   "source": [
    "for t in Tweets:\n",
    "    t.tokens += nltk.word_tokenize(t.tweet)"
   ]
  },
  {
   "cell_type": "code",
   "execution_count": 16,
   "metadata": {},
   "outputs": [],
   "source": [
    "for t in Tweets:\n",
    "    for i in range(len(t.tokens) - 1, 0, -1):\n",
    "        if len(t.tokens[i].strip()) == 0 or (len(t.tokens[i].strip()) == 1 and t.tokens[i].strip() != 'a' and t.tokens[i].strip() != 'i' and t.tokens[i].strip() != '&'):\n",
    "            t.tokens.pop(i)"
   ]
  },
  {
   "cell_type": "markdown",
   "metadata": {},
   "source": [
    "**Stemmatisation**"
   ]
  },
  {
   "cell_type": "code",
   "execution_count": 17,
   "metadata": {},
   "outputs": [],
   "source": [
    "stemmer = SnowballStemmer('english')"
   ]
  },
  {
   "cell_type": "markdown",
   "metadata": {},
   "source": [
    "let's **compare** original string aigains its stemmed version to see the difference and say if the **stemmatisation** is **effective**"
   ]
  },
  {
   "cell_type": "markdown",
   "metadata": {},
   "source": [
    "Split according to multiple charachters"
   ]
  },
  {
   "cell_type": "code",
   "execution_count": 18,
   "metadata": {},
   "outputs": [],
   "source": [
    "for t in Tweets:\n",
    "    for tok in t.tokens:\n",
    "        t.stems.append(stemmer.stem(tok))"
   ]
  },
  {
   "cell_type": "code",
   "execution_count": 19,
   "metadata": {},
   "outputs": [],
   "source": [
    "for t in Tweets:\n",
    "    for i in range(len(t.stems) - 1, 0, -1):\n",
    "        if len(t.stems[i].strip()) == 0:\n",
    "            t.stems.pop(i)\n",
    "        elif len(t.stems[i].strip()) == 1:\n",
    "            if 'a' < t.stems[i].strip() <= 'z'and t.stems[i].strip() != 'i':\n",
    "                t.stems.pop(i)"
   ]
  },
  {
   "cell_type": "code",
   "execution_count": 20,
   "metadata": {},
   "outputs": [],
   "source": [
    "for t in Tweets:\n",
    "    for i in range(len(t.stems) - 1, 0, -1):\n",
    "        arr = t.stems[i].split('.')\n",
    "        t.stems[i] = arr[0]\n",
    "        for j in range(1, len(arr)):\n",
    "            t.stems.insert(i+j, arr[j])"
   ]
  },
  {
   "cell_type": "markdown",
   "metadata": {},
   "source": [
    "Re-clean one time"
   ]
  },
  {
   "cell_type": "code",
   "execution_count": 21,
   "metadata": {},
   "outputs": [],
   "source": [
    "for t in Tweets:\n",
    "    for i in range(len(t.stems)):\n",
    "        if t.stems[i] in abbr.keys():\n",
    "            t.stems[i] = abbr[t.stems[i]]"
   ]
  },
  {
   "cell_type": "markdown",
   "metadata": {},
   "source": [
    "**Dependency parsing**"
   ]
  },
  {
   "cell_type": "markdown",
   "metadata": {},
   "source": [
    "Example"
   ]
  },
  {
   "cell_type": "code",
   "execution_count": 22,
   "metadata": {},
   "outputs": [],
   "source": [
    "nlp = spacy.load(\"en_core_web_sm\")"
   ]
  },
  {
   "cell_type": "code",
   "execution_count": 23,
   "metadata": {},
   "outputs": [
    {
     "name": "stdout",
     "output_type": "stream",
     "text": [
      "so hoes that smoke are losers. yea. go on ig\n",
      "['so', 'hoes', 'that', 'smoke', 'are', 'losers', 'yea', 'go', 'on', 'ig']\n",
      "['so', 'hoe', 'that', 'smoke', 'are', 'loser', 'yea', 'go', 'on', 'instagram'] \n",
      "\n",
      "so: advmod -> hoe\n",
      "hoe: ROOT -> hoe\n",
      "that: mark -> are\n",
      "smoke: nsubj -> are\n",
      "are: ccomp -> hoe\n",
      "loser: amod -> yea\n",
      "yea: compound -> go\n",
      "go: attr -> are\n",
      "on: prep -> go\n",
      "instagram: pobj -> on\n"
     ]
    }
   ],
   "source": [
    "print(Tweets[12].tweet)\n",
    "print(Tweets[12].tokens)\n",
    "print(Tweets[12].stems, \"\\n\")\n",
    "\n",
    "doc = nlp(' '.join(Tweets[12].stems))\n",
    "for token in doc:\n",
    "    print(f\"{token.text}: {token.dep_} -> {token.head.text}\")"
   ]
  },
  {
   "cell_type": "code",
   "execution_count": 24,
   "metadata": {},
   "outputs": [],
   "source": [
    "# displacy.serve(doc, style=\"dep\")"
   ]
  },
  {
   "cell_type": "markdown",
   "metadata": {},
   "source": [
    "This allow us to know the role of a word in the sentence<br>\n",
    "let's store those information"
   ]
  },
  {
   "cell_type": "code",
   "execution_count": 25,
   "metadata": {},
   "outputs": [],
   "source": [
    "for t in Tweets:\n",
    "    doc = nlp(' '.join(t.stems))\n",
    "    for token in doc:\n",
    "        t.tags.append(token.dep_)"
   ]
  },
  {
   "cell_type": "markdown",
   "metadata": {},
   "source": [
    "List the most used words"
   ]
  },
  {
   "cell_type": "code",
   "execution_count": 26,
   "metadata": {},
   "outputs": [],
   "source": [
    "TRESHOLD = 3\n",
    "code_table = []"
   ]
  },
  {
   "cell_type": "markdown",
   "metadata": {},
   "source": [
    "We will record words if they are used more than `TRESHOLD`"
   ]
  },
  {
   "cell_type": "code",
   "execution_count": 27,
   "metadata": {},
   "outputs": [],
   "source": [
    "used_w = {}\n",
    "\n",
    "for t in Tweets:\n",
    "    for s in t.stems:\n",
    "        if not s in used_w.keys():\n",
    "            used_w[s] =  1\n",
    "        else:\n",
    "            used_w[s] += 1"
   ]
  },
  {
   "cell_type": "code",
   "execution_count": 28,
   "metadata": {},
   "outputs": [],
   "source": [
    "for k, v in sorted(used_w.items(), key=lambda item: item[1], reverse=True):\n",
    "    if v < TRESHOLD:\n",
    "        break\n",
    "    code_table.append(k)"
   ]
  },
  {
   "cell_type": "code",
   "execution_count": 29,
   "metadata": {},
   "outputs": [
    {
     "name": "stdout",
     "output_type": "stream",
     "text": [
      "5707\n"
     ]
    }
   ],
   "source": [
    "print(len(code_table))"
   ]
  },
  {
   "cell_type": "markdown",
   "metadata": {},
   "source": [
    "**Encode-Decode** functions"
   ]
  },
  {
   "cell_type": "code",
   "execution_count": 30,
   "metadata": {},
   "outputs": [],
   "source": [
    "def enc(word):\n",
    "    index = -1\n",
    "    try:\n",
    "        index = code_table.index(word)\n",
    "    except ValueError:\n",
    "        index = -1\n",
    "    \n",
    "    return index"
   ]
  },
  {
   "cell_type": "code",
   "execution_count": 31,
   "metadata": {},
   "outputs": [],
   "source": [
    "def dec(index):\n",
    "    if index >= len(code_table) or index < 0: return ''\n",
    "    return code_table(index)"
   ]
  },
  {
   "cell_type": "code",
   "execution_count": 32,
   "metadata": {},
   "outputs": [],
   "source": [
    "for t in Tweets:\n",
    "    for s in t.stems:\n",
    "        t.code.append(enc(s))"
   ]
  },
  {
   "cell_type": "markdown",
   "metadata": {},
   "source": [
    "Let's **encode** also the **tags** for the words. It will be **easier** to **handle**"
   ]
  },
  {
   "cell_type": "code",
   "execution_count": 33,
   "metadata": {},
   "outputs": [],
   "source": [
    "d_tags = {}\n",
    "\n",
    "for t in Tweets:\n",
    "    for g in t.tags:\n",
    "        if not g in d_tags.keys():\n",
    "            d_tags[g]  = 1\n",
    "        else:\n",
    "            d_tags[g] += 1"
   ]
  },
  {
   "cell_type": "markdown",
   "metadata": {},
   "source": [
    "**Note**: Here it's not necessary to **sort** the tags usage count but it's not slowing the learning process"
   ]
  },
  {
   "cell_type": "code",
   "execution_count": 34,
   "metadata": {},
   "outputs": [],
   "source": [
    "tag_code_table = []\n",
    "for k, v in sorted(d_tags.items(), key=lambda item: item[1], reverse=True):\n",
    "    tag_code_table.append(k)"
   ]
  },
  {
   "cell_type": "code",
   "execution_count": 35,
   "metadata": {},
   "outputs": [
    {
     "name": "stdout",
     "output_type": "stream",
     "text": [
      "['nsubj', 'compound', 'ROOT', 'det', 'dobj', 'prep', 'pobj', 'amod', 'advmod', 'aux', 'ccomp', 'npadvmod', 'nummod', 'conj', 'poss', 'cc', 'attr', 'neg', 'advcl', 'appos', 'relcl', 'mark', 'xcomp', 'acomp', 'intj', 'prt', 'nmod', 'dep', 'punct', 'auxpass', 'dative', 'nsubjpass', 'predet', 'oprd', 'parataxis', 'pcomp', 'csubj', 'acl', 'expl', 'quantmod', 'preconj', 'agent', 'meta', 'case', 'csubjpass']\n"
     ]
    }
   ],
   "source": [
    "print(tag_code_table)"
   ]
  },
  {
   "cell_type": "code",
   "execution_count": 36,
   "metadata": {},
   "outputs": [],
   "source": [
    "def t_enc(tag):\n",
    "    index = -1\n",
    "    try:\n",
    "        index = tag_code_table.index(tag)\n",
    "    except ValueError:\n",
    "        index = -1\n",
    "    \n",
    "    return index + 1"
   ]
  },
  {
   "cell_type": "code",
   "execution_count": 37,
   "metadata": {},
   "outputs": [],
   "source": [
    "def t_dec(index):\n",
    "    ind = index - 1\n",
    "    if ind >= len(tag_code_table) or ind < 0: return ''\n",
    "    return tag_code_table(ind)"
   ]
  },
  {
   "cell_type": "markdown",
   "metadata": {},
   "source": [
    "Record that data"
   ]
  },
  {
   "cell_type": "code",
   "execution_count": 38,
   "metadata": {},
   "outputs": [],
   "source": [
    "for t in Tweets:\n",
    "    for g in t.tags:\n",
    "        t.t_code.append(t_enc(g))"
   ]
  },
  {
   "cell_type": "markdown",
   "metadata": {},
   "source": [
    "Here's how our data looks so far!"
   ]
  },
  {
   "cell_type": "code",
   "execution_count": 39,
   "metadata": {},
   "outputs": [
    {
     "name": "stdout",
     "output_type": "stream",
     "text": [
      "+----------+----------+----------+-----------+\n",
      "|   TAG    | tag CODE |   STEM   | stem CODE |\n",
      "+----------+----------+----------+-----------+\n",
      "|   prep   |    6     |    as    |     77    |\n",
      "|   det    |    4     |    a     |     1     |\n",
      "|   pobj   |    7     |  woman   |    369    |\n",
      "|  nsubj   |    1     |   you    |     4     |\n",
      "|   aux    |    10    | shouldnt |    990    |\n",
      "|   neg    |    18    | complain |    717    |\n",
      "|   ROOT   |    3     |  about   |     60    |\n",
      "|   prep   |    6     |  clean   |    645    |\n",
      "|  pcomp   |    36    |    up    |     35    |\n",
      "|   prt    |    26    |   your   |     20    |\n",
      "|   poss   |    15    |   hous   |    306    |\n",
      "|   dobj   |    5     |    &     |     7     |\n",
      "|    cc    |    16    |    as    |     77    |\n",
      "|   prep   |    6     |    a     |     1     |\n",
      "|   det    |    4     |   man    |     88    |\n",
      "|   pobj   |    7     |   you    |     4     |\n",
      "|  nsubj   |    1     |  should  |    213    |\n",
      "|   aux    |    10    |  alway   |    163    |\n",
      "|  advmod  |    9     |   take   |    122    |\n",
      "|  advcl   |    19    |   the    |     5     |\n",
      "|   det    |    4     |  trash   |     49    |\n",
      "|   dobj   |    5     |   out    |     56    |\n",
      "|    -     |    -     |    -     |     -     |\n",
      "| npadvmod |    12    |   boy    |    177    |\n",
      "|   det    |    4     |   that   |     8     |\n",
      "|   amod   |    8     |   cold   |    562    |\n",
      "|  appos   |    20    |   tyga   |    1556   |\n",
      "|  advmod  |    9     |   down   |    140    |\n",
      "|   ROOT   |    3     |   bad    |     89    |\n",
      "|   prep   |    6     |   for    |     24    |\n",
      "|   pobj   |    7     |  cuffin  |    2250   |\n",
      "|   det    |    4     |   that   |     8     |\n",
      "|  relcl   |    21    |   hoe    |     9     |\n",
      "|   prep   |    6     |    in    |     11    |\n",
      "|   det    |    4     |   the    |     5     |\n",
      "|   amod   |    8     |   1st    |    882    |\n",
      "|   pobj   |    7     |  place   |    501    |\n",
      "|    -     |    -     |    -     |     -     |\n",
      "|  nsubj   |    1     | usernam  |     2     |\n",
      "|   ROOT   |    3     |   dude   |    209    |\n",
      "|  nsubj   |    1     |   you    |     4     |\n",
      "|  advmod  |    9     |   ever   |    179    |\n",
      "|  ccomp   |    11    |   fuck   |     21    |\n",
      "|   det    |    4     |    a     |     1     |\n",
      "|   dobj   |    5     |  bitch   |     0     |\n",
      "|    cc    |    16    |    &     |     7     |\n",
      "|  nsubj   |    1     |   she    |     52    |\n",
      "|   conj   |    14    |  start   |    201    |\n",
      "|   aux    |    10    |    to    |     6     |\n",
      "|  xcomp   |    23    |   cri    |    340    |\n",
      "|  nsubj   |    1     |   you    |     4     |\n",
      "|  ccomp   |    11    |    be    |     17    |\n",
      "|  acomp   |    24    |  confus  |    900    |\n",
      "|   prep   |    6     |    as    |     77    |\n",
      "|   pobj   |    7     |   shit   |     46    |\n",
      "|    -     |    -     |    -     |     -     |\n",
      "| npadvmod |    12    | usernam  |     2     |\n",
      "|  nsubj   |    1     |   she    |     52    |\n",
      "|   ROOT   |    3     |   look   |     67    |\n",
      "|   prep   |    6     |   like   |     14    |\n",
      "|   det    |    4     |    a     |     1     |\n",
      "|   pobj   |    7     |  tranni  |    634    |\n",
      "|    -     |    -     |    -     |     -     |\n",
      "|   det    |    4     |   the    |     5     |\n",
      "|  nsubj   |    1     |   shit   |     46    |\n",
      "|  nsubj   |    1     |   you    |     4     |\n",
      "|  relcl   |    21    |   hear   |    461    |\n",
      "|   prep   |    6     |  about   |     60    |\n",
      "|   pobj   |    7     |    me    |     16    |\n",
      "|   aux    |    10    |  might   |    347    |\n",
      "|   ROOT   |    3     |    be    |     17    |\n",
      "|  acomp   |    24    |   true   |    530    |\n",
      "|    cc    |    16    |    or    |     76    |\n",
      "|  nsubj   |    1     |    it    |     12    |\n",
      "|   aux    |    10    |  might   |    347    |\n",
      "|   conj   |    14    |    be    |     17    |\n",
      "|  acomp   |    24    |  faker   |     -1    |\n",
      "|   prep   |    6     |   than   |    141    |\n",
      "|   det    |    4     |   the    |     5     |\n",
      "|   pobj   |    7     |  bitch   |     0     |\n",
      "|  nsubj   |    1     |   who    |     79    |\n",
      "|  relcl   |    21    |   told   |    286    |\n",
      "|   dobj   |    5     |    it    |     12    |\n",
      "|   prep   |    6     |    to    |     6     |\n",
      "|   pobj   |    7     |   yes    |     86    |\n",
      "|  nummod  |    13    |  57361   |     -1    |\n",
      "|    -     |    -     |    -     |     -     |\n",
      "+----------+----------+----------+-----------+\n"
     ]
    }
   ],
   "source": [
    "table = PrettyTable([\"TAG\", \"tag CODE\", \"STEM\", \"stem CODE\"])\n",
    "\n",
    "for t in Tweets[:5]:\n",
    "    for i in range(len(t.stems)):\n",
    "        table.add_row([t.tags[i], t.t_code[i], t.stems[i], t.code[i]])\n",
    "    table.add_row(['-', '-', '-', '-'])\n",
    "\n",
    "print(table)"
   ]
  },
  {
   "cell_type": "markdown",
   "metadata": {},
   "source": [
    "Time for making a model !"
   ]
  },
  {
   "cell_type": "markdown",
   "metadata": {},
   "source": [
    "Here are my ideas for the input of the model \n",
    "\n",
    "1. An array of this type:\n",
    "  - [$stem_0$, $tag_0$, $stem_1$, $tag_1$, $stem_2$, $tag_2$ ... $stem_n$, $tag_n$]\n",
    "\n",
    "2. Or an array of this type: \n",
    "  - [$stem_0$, $stem_1$, $stem_2$ ... $stem_n$, $tag_0$, $tag_1$, $tag_2$ ... $tag_n$]\n",
    "\n",
    "3. Or two input arrays:\n",
    "  - stem code\n",
    "  - tag code"
   ]
  },
  {
   "cell_type": "markdown",
   "metadata": {},
   "source": [
    "**Keras** offers us the `Embedding` layer with those arguments:\n",
    "\n",
    "- input_dim: Integer. Size of the vocabulary, i.e. maximum integer index + 1.\n",
    "\n",
    "- output_dim: Integer. Dimension of the dense embedding.\n",
    "\n",
    "- embeddings_initializer: Initializer for the embeddings matrix (see keras.initializers).\n",
    "\n",
    "- embeddings_regularizer: Regularizer function applied to the embeddings matrix (see keras.regularizers).\n",
    "\n",
    "- embeddings_constraint: Constraint function applied to the embeddings matrix (see keras.constraints).\n",
    "\n",
    "- mask_zero: Boolean, whether or not the input value 0 is a special \"padding\" value that should be masked out.\n",
    "\n",
    "This is useful when using recurrent layers which may take variable length input. If this is True, then all subsequent layers in the model need to support masking or an exception will be raised. If mask_zero is set to True, as a consequence, index 0 cannot be used in the vocabulary (input_dim should equal size of vocabulary + 1).\n",
    "\n",
    "> Source: [Keras' documentation](https://keras.io/api/layers/core_layers/embedding/)"
   ]
  },
  {
   "cell_type": "markdown",
   "metadata": {},
   "source": [
    "We have to figure the maximum integer index. in the 1st and 2nd case, it is equals to two times the number of words."
   ]
  },
  {
   "cell_type": "code",
   "execution_count": 40,
   "metadata": {},
   "outputs": [
    {
     "name": "stdout",
     "output_type": "stream",
     "text": [
      "max   = 67 \n",
      "2*max = 134\n"
     ]
    }
   ],
   "source": [
    "max = 0\n",
    "for t in Tweets:\n",
    "    if max < len(t.stems):\n",
    "        max = len(t.stems)\n",
    "\n",
    "print(\"max   =\", max, \"\\n2*max =\", 2*max)"
   ]
  },
  {
   "cell_type": "markdown",
   "metadata": {},
   "source": [
    "A maximal input dimension of **500** seems enough and will allow the user to input a large text up to 500 words and **compute** it in the **model**"
   ]
  },
  {
   "cell_type": "markdown",
   "metadata": {},
   "source": [
    "### Train without the word tags"
   ]
  },
  {
   "cell_type": "markdown",
   "metadata": {},
   "source": [
    "The model wants 500 integers input. almost every tweet is about 50 words, let's add padding of -1"
   ]
  },
  {
   "cell_type": "code",
   "execution_count": 41,
   "metadata": {},
   "outputs": [],
   "source": [
    "INPUT= 100"
   ]
  },
  {
   "cell_type": "code",
   "execution_count": 42,
   "metadata": {},
   "outputs": [],
   "source": [
    "x = []\n",
    "for t in Tweets:\n",
    "    row = []\n",
    "    for c in t.code:\n",
    "        row.append(c)\n",
    "    elements_to_add = INPUT - len(row)\n",
    "    \n",
    "    for _ in range(elements_to_add):\n",
    "        row.append(0)\n",
    "\n",
    "    x.append(row)"
   ]
  },
  {
   "cell_type": "code",
   "execution_count": 43,
   "metadata": {},
   "outputs": [
    {
     "name": "stdout",
     "output_type": "stream",
     "text": [
      "(24783, 100)\n"
     ]
    }
   ],
   "source": [
    "X = np.array(x)\n",
    "x = None # free memory\n",
    "\n",
    "print(X.shape)"
   ]
  },
  {
   "cell_type": "markdown",
   "metadata": {},
   "source": [
    "create the hateness vector"
   ]
  },
  {
   "cell_type": "code",
   "execution_count": 44,
   "metadata": {},
   "outputs": [],
   "source": [
    "y_hate = []\n",
    "for t in Tweets:\n",
    "    y_hate.append(t.hateness())"
   ]
  },
  {
   "cell_type": "code",
   "execution_count": 45,
   "metadata": {},
   "outputs": [],
   "source": [
    "y_hate = np.array(y_hate)"
   ]
  },
  {
   "cell_type": "code",
   "execution_count": 46,
   "metadata": {},
   "outputs": [
    {
     "name": "stdout",
     "output_type": "stream",
     "text": [
      "[0.         0.         0.         0.         0.         0.33333333\n",
      " 0.         0.         0.         0.33333333]\n"
     ]
    }
   ],
   "source": [
    "print(y_hate[:10])"
   ]
  },
  {
   "cell_type": "code",
   "execution_count": 47,
   "metadata": {},
   "outputs": [
    {
     "name": "stdout",
     "output_type": "stream",
     "text": [
      "(24783,)\n"
     ]
    }
   ],
   "source": [
    "print(y_hate.shape)"
   ]
  },
  {
   "cell_type": "code",
   "execution_count": 48,
   "metadata": {},
   "outputs": [],
   "source": [
    "X_train, X_test, y_train, y_test = train_test_split(X, y_hate, test_size=.2, random_state=42)"
   ]
  },
  {
   "cell_type": "code",
   "execution_count": 49,
   "metadata": {},
   "outputs": [
    {
     "name": "stdout",
     "output_type": "stream",
     "text": [
      "(19826, 100)\n"
     ]
    }
   ],
   "source": [
    "print(X_train.shape)"
   ]
  },
  {
   "cell_type": "code",
   "execution_count": 50,
   "metadata": {},
   "outputs": [],
   "source": [
    "model = Sequential()\n",
    "model.add(Dense(8, input_dim=INPUT, activation='relu'))\n",
    "model.add(Dense(16, activation='relu'))\n",
    "model.add(Dense(32, activation='relu'))\n",
    "model.add(Dense(1, activation='sigmoid'))"
   ]
  },
  {
   "cell_type": "code",
   "execution_count": 51,
   "metadata": {},
   "outputs": [
    {
     "name": "stdout",
     "output_type": "stream",
     "text": [
      "KerasTensor(type_spec=TensorSpec(shape=(None, 100), dtype=tf.float32, name='dense_input'), name='dense_input', description=\"created by layer 'dense_input'\")\n"
     ]
    }
   ],
   "source": [
    "print(model.layers[0].input)"
   ]
  },
  {
   "cell_type": "code",
   "execution_count": 52,
   "metadata": {},
   "outputs": [],
   "source": [
    "model.compile(optimizer='adam', loss='binary_crossentropy', metrics=['accuracy'])"
   ]
  },
  {
   "cell_type": "code",
   "execution_count": 53,
   "metadata": {},
   "outputs": [
    {
     "name": "stdout",
     "output_type": "stream",
     "text": [
      "Epoch 1/10\n"
     ]
    },
    {
     "name": "stdout",
     "output_type": "stream",
     "text": [
      "620/620 [==============================] - 3s 3ms/step - loss: 1.7717 - accuracy: 0.7452 - val_loss: 0.6252 - val_accuracy: 0.7795\n",
      "Epoch 2/10\n",
      "620/620 [==============================] - 2s 3ms/step - loss: 0.5050 - accuracy: 0.7795 - val_loss: 0.4146 - val_accuracy: 0.7890\n",
      "Epoch 3/10\n",
      "620/620 [==============================] - 2s 3ms/step - loss: 0.3857 - accuracy: 0.7894 - val_loss: 0.3895 - val_accuracy: 0.7989\n",
      "Epoch 4/10\n",
      "620/620 [==============================] - 2s 4ms/step - loss: 0.3429 - accuracy: 0.7927 - val_loss: 0.3391 - val_accuracy: 0.7989\n",
      "Epoch 5/10\n",
      "620/620 [==============================] - 2s 3ms/step - loss: 0.3255 - accuracy: 0.7948 - val_loss: 0.3228 - val_accuracy: 0.7987\n",
      "Epoch 6/10\n",
      "620/620 [==============================] - 3s 4ms/step - loss: 0.3145 - accuracy: 0.7962 - val_loss: 0.3128 - val_accuracy: 0.8003\n",
      "Epoch 7/10\n",
      "620/620 [==============================] - 2s 4ms/step - loss: 0.3088 - accuracy: 0.7962 - val_loss: 0.3107 - val_accuracy: 0.8003\n",
      "Epoch 8/10\n",
      "620/620 [==============================] - 2s 3ms/step - loss: 0.3058 - accuracy: 0.7971 - val_loss: 0.3140 - val_accuracy: 0.8003\n",
      "Epoch 9/10\n",
      "620/620 [==============================] - 2s 3ms/step - loss: 0.3037 - accuracy: 0.7975 - val_loss: 0.3063 - val_accuracy: 0.8001\n",
      "Epoch 10/10\n",
      "620/620 [==============================] - 2s 3ms/step - loss: 0.3012 - accuracy: 0.7975 - val_loss: 0.3012 - val_accuracy: 0.7997\n"
     ]
    }
   ],
   "source": [
    "his = model.fit(X_train, y_train, epochs=10, batch_size=32, validation_data=(X_test, y_test))"
   ]
  },
  {
   "cell_type": "code",
   "execution_count": 54,
   "metadata": {},
   "outputs": [],
   "source": [
    "# https://www.kaggle.com/danbrice/keras-plot-history-full-report-and-grid-search\n",
    "def plot_history(history):\n",
    "    loss_list = [s for s in history.history.keys() if 'loss' in s and 'val' not in s]\n",
    "    val_loss_list = [s for s in history.history.keys() if 'loss' in s and 'val' in s]\n",
    "    acc_list = [s for s in history.history.keys() if 'acc' in s and 'val' not in s]\n",
    "    val_acc_list = [s for s in history.history.keys() if 'acc' in s and 'val' in s]\n",
    "    \n",
    "    if len(loss_list) == 0:\n",
    "        print('Loss is missing in history')\n",
    "        return \n",
    "    \n",
    "    ## As loss always exists\n",
    "    epochs = range(1,len(history.history[loss_list[0]]) + 1)\n",
    "    ## Loss\n",
    "    plt.figure(1)\n",
    "    for l in loss_list:\n",
    "        plt.plot(epochs, history.history[l], 'b', label='Training loss (' + str(str(format(history.history[l][-1],'.5f'))+')'))\n",
    "    for l in val_loss_list:\n",
    "        plt.plot(epochs, history.history[l], 'g', label='Validation loss (' + str(str(format(history.history[l][-1],'.5f'))+')'))\n",
    "    \n",
    "    plt.title('Loss')\n",
    "    plt.xlabel('Epochs')\n",
    "    plt.ylabel('Loss')\n",
    "    plt.legend()\n",
    "    \n",
    "    ## Accuracy\n",
    "    plt.figure(2)\n",
    "    for l in acc_list:\n",
    "        plt.plot(epochs, history.history[l], 'b', label='Training accuracy (' + str(format(history.history[l][-1],'.5f'))+')')\n",
    "    for l in val_acc_list:    \n",
    "        plt.plot(epochs, history.history[l], 'g', label='Validation accuracy (' + str(format(history.history[l][-1],'.5f'))+')')\n",
    "\n",
    "    plt.title('Accuracy')\n",
    "    plt.xlabel('Epochs')\n",
    "    plt.ylabel('Accuracy')\n",
    "    plt.legend()\n",
    "    plt.show()"
   ]
  },
  {
   "cell_type": "code",
   "execution_count": 55,
   "metadata": {},
   "outputs": [
    {
     "data": {
      "image/png": "[encoded data removed]",
      "text/plain": [
       "<Figure size 640x480 with 1 Axes>"
      ]
     },
     "metadata": {},
     "output_type": "display_data"
    },
    {
     "data": {
      "image/png": "[encoded data removed]",
      "text/plain": [
       "<Figure size 640x480 with 1 Axes>"
      ]
     },
     "metadata": {},
     "output_type": "display_data"
    }
   ],
   "source": [
    "plot_history(his)"
   ]
  },
  {
   "cell_type": "code",
   "execution_count": 56,
   "metadata": {},
   "outputs": [],
   "source": [
    "# model.save('./models/hate-v2.h5')"
   ]
  },
  {
   "cell_type": "markdown",
   "metadata": {},
   "source": [
    "**Test from scratch**"
   ]
  },
  {
   "cell_type": "code",
   "execution_count": 57,
   "metadata": {},
   "outputs": [],
   "source": [
    "sentence = 'roses are red, sun is yellow'"
   ]
  },
  {
   "cell_type": "code",
   "execution_count": 58,
   "metadata": {},
   "outputs": [],
   "source": [
    "def preprocess(sentence):\n",
    "    sent = re.sub(r'@([a-zA-Z0-9_]+)', 'username', sentence).replace('username:', '') # replace first username\n",
    "    sent = re.sub(r'http?://\\S+', 'weblink', sent)\n",
    "    sent = re.sub(r'&amp', '&', sent)\n",
    "\n",
    "    if sent and sent[0] == '.':\n",
    "        sent = sent[1:]\n",
    "\n",
    "    remove_points(sent)\n",
    "    sent = sent   .replace('RT', '').replace('!', ' ').replace('\"', '').replace(\"\\n\", ' ')\\\n",
    "                        .replace(';', ' ').replace('-', ' ').replace(' and ', ' & ').replace('\\'', '')\\\n",
    "                        .replace('?', '.').replace(',', '').replace('~', ' ').replace('|', ' ').replace('°', ' ')\\\n",
    "                        .replace('`', ' ').replace('~', ' ').replace('*', ' ').replace('+', ' ').replace('/', ' ')\\\n",
    "                        .replace(' # ', ' ').replace('http', ' ').replace('t.co', ' ').replace('\\\\', ' ').replace('&#', ' ')\n",
    "    for _ in range(4):\n",
    "        sent = sent.replace('  ', ' ').replace('..', '.').replace(' .', '.') # remove multiple points & space\n",
    "    \n",
    "    if sent and sent[0] == ' ':\n",
    "        sent = sent[1:]\n",
    "\n",
    "    sent = sent.lower()\n",
    "\n",
    "    for old in abbr:\n",
    "        new = abbr[old]\n",
    "        sent = sent.replace( ' ' + old + ' ', ' ' + new + ' ' ) # add some space arround the world to avoid matching a part of a word\n",
    "\n",
    "    sent = reduce_repetition(sent)\n",
    "\n",
    "    tokens = nltk.word_tokenize(sent)\n",
    "\n",
    "    for i in range(len(tokens) - 1, 0, -1):\n",
    "        if len(tokens[i].strip()) == 0 or (len(tokens[i].strip()) == 1 and tokens[i].strip() != 'a' and tokens[i].strip() != 'i' and tokens[i].strip() != '&'):\n",
    "            tokens.pop(i)\n",
    "\n",
    "    stems = []\n",
    "\n",
    "    for tok in tokens:\n",
    "        stems.append(stemmer.stem(tok))\n",
    "\n",
    "    for i in range(len(stems) - 1, 0, -1):\n",
    "        if len(stems[i].strip()) == 0:\n",
    "            stems.pop(i)\n",
    "        elif len(stems[i].strip()) == 1:\n",
    "            if 'a' < stems[i].strip() <= 'z'and stems[i].strip() != 'i':\n",
    "                stems.pop(i)\n",
    "\n",
    "\n",
    "    for i in range(len(stems) - 1, 0, -1):\n",
    "        arr = stems[i].split('.')\n",
    "        stems[i] = arr[0]\n",
    "        for j in range(1, len(arr)):\n",
    "            stems.insert(i+j, arr[j])\n",
    "\n",
    "    for i in range(len(stems)):\n",
    "        if stems[i] in abbr.keys():\n",
    "            stems[i] = abbr[stems[i]]\n",
    "\n",
    "    return stems"
   ]
  },
  {
   "cell_type": "code",
   "execution_count": 59,
   "metadata": {},
   "outputs": [
    {
     "name": "stdout",
     "output_type": "stream",
     "text": [
      "['rose', 'are', 'red', 'sun', 'is', 'yellow']\n"
     ]
    }
   ],
   "source": [
    "print(preprocess(sentence))"
   ]
  },
  {
   "cell_type": "code",
   "execution_count": 60,
   "metadata": {},
   "outputs": [],
   "source": [
    "def encode_for_model(stems):\n",
    "    row  = []\n",
    "    code = []\n",
    "    for s in stems:\n",
    "        code.append(enc(s))\n",
    "    for c in code:\n",
    "        row.append(c)\n",
    "    elements_to_add = INPUT - len(row)\n",
    "    \n",
    "    for _ in range(elements_to_add):\n",
    "        row.append(0)\n",
    "\n",
    "    return np.array(row)"
   ]
  },
  {
   "cell_type": "code",
   "execution_count": 61,
   "metadata": {},
   "outputs": [],
   "source": [
    "c = encode_for_model(s)"
   ]
  },
  {
   "cell_type": "code",
   "execution_count": 62,
   "metadata": {},
   "outputs": [],
   "source": [
    "def prediction(sentence:str=None, code=None):\n",
    "    if sentence is None and code is None:\n",
    "        print(\"Error, function prediction waits at least a sentence or its code\")\n",
    "    if code is None:\n",
    "        code = encode_for_model(preprocess(sentence))\n",
    "    code_reshaped = np.reshape(code, (1, INPUT))\n",
    "    predictions = model.predict(code_reshaped, verbose = 0)\n",
    "\n",
    "    return predictions[0][0]"
   ]
  },
  {
   "cell_type": "code",
   "execution_count": 63,
   "metadata": {},
   "outputs": [
    {
     "data": {
      "text/plain": [
       "0.07190729"
      ]
     },
     "execution_count": 63,
     "metadata": {},
     "output_type": "execute_result"
    }
   ],
   "source": [
    "prediction(code=c)"
   ]
  },
  {
   "cell_type": "code",
   "execution_count": 64,
   "metadata": {},
   "outputs": [
    {
     "name": "stdout",
     "output_type": "stream",
     "text": [
      "9 0\n"
     ]
    },
    {
     "name": "stdout",
     "output_type": "stream",
     "text": [
      "5 0\n",
      "9 0\n",
      "12 0\n",
      "8 0\n",
      "6 33\n",
      "9 0\n",
      "12 0\n",
      "7 0\n",
      "7 33\n",
      "7 0\n",
      "8 0\n",
      "13 0\n",
      "8 0\n",
      "9 33\n",
      "12 0\n",
      "8 0\n",
      "8 33\n",
      "9 0\n",
      "8 0\n",
      "10 0\n",
      "8 0\n",
      "11 0\n",
      "4 0\n",
      "9 0\n",
      "9 0\n",
      "11 0\n",
      "9 0\n",
      "6 0\n",
      "8 0\n",
      "5 0\n",
      "9 0\n",
      "12 0\n",
      "9 0\n",
      "7 0\n",
      "9 0\n",
      "8 0\n",
      "9 0\n",
      "9 0\n",
      "9 0\n",
      "8 0\n",
      "12 0\n",
      "8 0\n",
      "6 0\n",
      "6 0\n",
      "8 0\n",
      "9 0\n",
      "12 0\n",
      "9 0\n",
      "12 33\n",
      "7 33\n",
      "14 0\n",
      "8 0\n",
      "7 0\n",
      "12 0\n",
      "8 0\n",
      "11 0\n",
      "9 0\n",
      "9 0\n",
      "2 0\n",
      "7 0\n",
      "12 0\n",
      "8 0\n",
      "12 0\n",
      "7 0\n",
      "8 0\n",
      "9 0\n",
      "9 0\n",
      "11 0\n",
      "8 33\n",
      "8 0\n",
      "5 0\n",
      "9 0\n",
      "8 0\n",
      "8 33\n",
      "9 0\n",
      "13 0\n",
      "9 33\n",
      "7 0\n",
      "7 33\n",
      "9 0\n",
      "8 0\n",
      "9 0\n",
      "8 33\n",
      "7 0\n",
      "10 66\n",
      "9 0\n",
      "9 0\n",
      "0 0\n",
      "8 100\n",
      "8 33\n",
      "8 16\n",
      "8 33\n",
      "10 0\n",
      "5 33\n",
      "8 0\n",
      "8 0\n",
      "7 0\n",
      "6 0\n",
      "9 33\n",
      "6 0\n",
      "8 0\n",
      "9 0\n",
      "8 0\n",
      "4 0\n",
      "6 0\n",
      "9 0\n",
      "8 0\n",
      "13 0\n",
      "14 0\n",
      "9 100\n",
      "12 0\n",
      "9 0\n",
      "8 33\n",
      "9 0\n",
      "8 0\n",
      "10 0\n",
      "8 0\n",
      "8 0\n",
      "6 0\n",
      "4 0\n",
      "8 0\n",
      "8 0\n",
      "8 0\n",
      "8 0\n",
      "5 0\n",
      "9 0\n",
      "8 0\n",
      "7 0\n",
      "9 0\n",
      "9 0\n",
      "6 0\n",
      "3 0\n",
      "9 0\n",
      "9 0\n",
      "8 0\n",
      "8 0\n",
      "8 0\n",
      "9 33\n",
      "8 33\n",
      "9 0\n",
      "9 0\n",
      "9 0\n",
      "8 33\n",
      "9 0\n",
      "7 0\n",
      "8 0\n",
      "9 0\n",
      "7 0\n",
      "9 0\n",
      "8 0\n",
      "9 0\n",
      "8 0\n",
      "9 0\n",
      "7 0\n",
      "8 0\n",
      "8 0\n",
      "8 0\n",
      "9 0\n",
      "9 0\n",
      "2 0\n",
      "7 0\n",
      "8 0\n",
      "8 0\n",
      "8 0\n",
      "11 0\n",
      "9 0\n",
      "9 0\n",
      "9 0\n",
      "8 0\n",
      "9 0\n",
      "9 0\n",
      "7 0\n",
      "9 0\n",
      "8 0\n",
      "13 0\n",
      "12 0\n",
      "6 33\n",
      "7 0\n",
      "8 0\n",
      "8 0\n",
      "8 0\n",
      "7 0\n",
      "8 0\n",
      "8 100\n",
      "11 0\n",
      "9 0\n",
      "13 0\n",
      "8 0\n",
      "7 0\n",
      "12 0\n",
      "9 33\n",
      "9 0\n",
      "8 0\n",
      "9 0\n",
      "9 0\n",
      "6 0\n",
      "9 0\n",
      "8 0\n",
      "1 0\n",
      "8 33\n",
      "9 0\n",
      "10 66\n",
      "13 0\n",
      "9 66\n",
      "8 0\n",
      "8 0\n",
      "10 0\n",
      "12 0\n",
      "8 0\n",
      "9 0\n",
      "8 0\n",
      "5 0\n",
      "9 0\n",
      "12 0\n",
      "8 0\n",
      "5 0\n",
      "8 0\n",
      "8 0\n",
      "8 50\n",
      "3 0\n",
      "9 0\n",
      "8 33\n",
      "8 0\n",
      "10 0\n",
      "7 0\n",
      "8 33\n",
      "8 0\n",
      "14 0\n",
      "7 33\n",
      "7 0\n",
      "12 0\n",
      "7 0\n",
      "8 0\n",
      "9 0\n",
      "7 0\n",
      "9 0\n",
      "9 0\n",
      "4 0\n",
      "9 0\n",
      "7 0\n",
      "6 0\n",
      "12 0\n",
      "8 0\n",
      "6 0\n",
      "9 0\n",
      "8 0\n",
      "9 0\n",
      "8 0\n",
      "11 0\n",
      "4 0\n",
      "9 0\n",
      "9 33\n",
      "8 0\n",
      "9 0\n",
      "9 0\n",
      "8 33\n",
      "9 33\n",
      "6 0\n",
      "8 0\n",
      "12 66\n",
      "17 0\n",
      "9 0\n",
      "8 0\n",
      "8 0\n",
      "8 33\n",
      "8 0\n",
      "8 0\n",
      "4 0\n",
      "8 0\n",
      "7 0\n",
      "8 0\n",
      "5 0\n",
      "10 0\n",
      "15 0\n",
      "9 0\n",
      "7 0\n",
      "13 0\n",
      "7 0\n",
      "8 0\n",
      "9 0\n",
      "7 33\n",
      "6 0\n",
      "7 0\n",
      "6 0\n",
      "7 33\n",
      "8 0\n",
      "9 0\n",
      "8 0\n",
      "9 25\n",
      "9 0\n",
      "11 0\n",
      "9 0\n",
      "8 33\n",
      "4 0\n",
      "9 0\n",
      "8 33\n",
      "13 0\n",
      "8 0\n",
      "9 0\n",
      "8 0\n",
      "9 33\n",
      "8 33\n",
      "6 0\n",
      "9 0\n",
      "8 0\n",
      "7 0\n",
      "11 0\n",
      "9 0\n",
      "8 0\n",
      "8 0\n",
      "12 0\n",
      "8 66\n",
      "9 0\n",
      "8 0\n",
      "9 66\n",
      "6 0\n",
      "9 33\n",
      "7 0\n",
      "9 0\n",
      "8 0\n",
      "8 0\n",
      "13 0\n",
      "9 0\n",
      "13 33\n",
      "8 0\n",
      "12 0\n",
      "9 0\n",
      "8 33\n",
      "5 0\n",
      "8 0\n",
      "8 0\n",
      "12 0\n",
      "6 0\n",
      "9 0\n",
      "7 0\n",
      "6 0\n",
      "11 0\n",
      "5 0\n",
      "9 0\n",
      "9 0\n",
      "8 0\n",
      "9 0\n",
      "8 0\n",
      "7 0\n",
      "5 0\n",
      "9 0\n",
      "11 0\n",
      "9 0\n",
      "4 66\n",
      "9 33\n",
      "9 0\n",
      "6 66\n",
      "5 0\n",
      "9 0\n",
      "8 0\n",
      "12 0\n",
      "8 0\n",
      "9 0\n",
      "8 33\n",
      "7 0\n",
      "1 0\n",
      "6 0\n",
      "8 0\n",
      "9 0\n",
      "9 0\n",
      "12 0\n",
      "8 0\n",
      "8 0\n",
      "8 33\n",
      "9 0\n",
      "9 0\n",
      "10 0\n",
      "9 0\n",
      "8 0\n",
      "13 0\n",
      "7 0\n",
      "8 0\n",
      "6 0\n",
      "8 33\n",
      "9 0\n",
      "8 0\n",
      "7 16\n",
      "12 0\n",
      "8 0\n",
      "9 0\n",
      "4 0\n",
      "5 0\n",
      "9 0\n",
      "9 0\n",
      "9 0\n",
      "8 0\n",
      "8 0\n",
      "9 33\n",
      "9 0\n",
      "9 33\n",
      "9 0\n",
      "9 0\n",
      "8 0\n",
      "5 0\n",
      "8 33\n",
      "8 0\n",
      "8 0\n",
      "9 0\n",
      "8 0\n",
      "8 0\n",
      "8 0\n",
      "5 0\n",
      "8 0\n",
      "6 0\n",
      "7 33\n",
      "12 0\n",
      "4 0\n",
      "8 0\n",
      "4 0\n",
      "12 0\n",
      "7 33\n",
      "9 0\n",
      "0 33\n",
      "11 0\n",
      "8 0\n",
      "7 0\n",
      "11 0\n",
      "9 0\n",
      "8 0\n",
      "0 33\n",
      "7 0\n",
      "10 0\n",
      "8 0\n",
      "5 0\n",
      "12 33\n",
      "8 0\n",
      "9 0\n",
      "11 0\n",
      "8 0\n",
      "9 0\n",
      "5 0\n",
      "9 66\n",
      "12 0\n",
      "3 0\n",
      "8 0\n",
      "9 33\n",
      "5 33\n",
      "8 0\n",
      "8 0\n",
      "9 0\n",
      "6 0\n",
      "9 33\n",
      "8 0\n",
      "7 0\n",
      "9 0\n",
      "8 33\n",
      "6 0\n",
      "14 0\n",
      "8 0\n",
      "8 0\n",
      "9 33\n",
      "7 0\n",
      "8 0\n",
      "8 100\n",
      "9 0\n",
      "8 0\n",
      "7 0\n",
      "8 0\n",
      "11 0\n",
      "8 33\n",
      "2 0\n",
      "9 0\n",
      "8 0\n",
      "13 0\n",
      "8 0\n",
      "8 0\n",
      "8 0\n",
      "8 0\n",
      "8 0\n",
      "7 0\n",
      "10 0\n",
      "10 0\n",
      "8 0\n",
      "12 0\n",
      "10 0\n",
      "2 0\n",
      "9 0\n",
      "8 0\n",
      "9 0\n",
      "8 0\n",
      "5 0\n",
      "9 0\n",
      "10 0\n",
      "4 0\n",
      "9 0\n",
      "9 0\n",
      "8 0\n",
      "9 0\n",
      "9 0\n",
      "9 33\n",
      "2 33\n",
      "8 0\n",
      "6 0\n",
      "7 0\n",
      "17.605790495872498\n"
     ]
    }
   ],
   "source": [
    "m = 0\n",
    "for t in Tweets[:500]:\n",
    "    print(int(prediction(t.tweet)*100), int(t.hateness()*100))\n",
    "    if m < prediction(t.tweet)*100:\n",
    "        m = prediction(t.tweet)*100\n",
    "print( m )\n",
    "    "
   ]
  }
 ],
 "metadata": {
  "kernelspec": {
   "display_name": "Python 3",
   "language": "python",
   "name": "python3"
  },
  "language_info": {
   "codemirror_mode": {
    "name": "ipython",
    "version": 3
   },
   "file_extension": ".py",
   "mimetype": "text/x-python",
   "name": "python",
   "nbconvert_exporter": "python",
   "pygments_lexer": "ipython3",
   "version": "3.10.12"
  }
 },
 "nbformat": 4,
 "nbformat_minor": 2
}
