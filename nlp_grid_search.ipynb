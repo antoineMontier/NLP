{
 "cells": [
  {
   "cell_type": "code",
   "execution_count": 1,
   "metadata": {},
   "outputs": [],
   "source": [
    "import pandas as pd\n",
    "import numpy as np\n",
    "from sklearn.model_selection import train_test_split\n",
    "from sklearn.feature_extraction.text import TfidfVectorizer\n",
    "from sklearn.linear_model import LogisticRegression\n",
    "from sklearn.metrics import accuracy_score, precision_score, recall_score, f1_score\n",
    "from sklearn.preprocessing import LabelEncoder\n",
    "from sklearn.svm import SVC\n",
    "from nltk.stem.snowball import SnowballStemmer\n",
    "import nltk\n",
    "import matplotlib.pyplot as plt\n",
    "from sklearn.metrics import confusion_matrix\n",
    "import re"
   ]
  },
  {
   "cell_type": "code",
   "execution_count": 2,
   "metadata": {},
   "outputs": [],
   "source": [
    "abbr = {\n",
    "    'ninstagram'        : 'instagram',\n",
    "    'instagramgram'     : 'instagram',\n",
    "    'ig'                : 'instagram',\n",
    "    'strainstagramht'   : 'instagram',\n",
    "    'insta'             : 'instagram',\n",
    "    'rinstagramht'      : 'instagram',\n",
    "    'ninstagramguh'     : 'instagram',\n",
    "    'instagramz'        : 'instagram',\n",
    "    'sinstagramn'       : 'instagram',\n",
    "    'binstagramgest'    : 'instagram',\n",
    "    'pinstagram'        : 'instagram',\n",
    "    'linstagramht'      : 'instagram',\n",
    "    'ninstagramg'       : 'instagram',\n",
    "    'instagramh'        : 'instagram',\n",
    "    'instagramnor'      : 'instagram',\n",
    "    'ninstagramht'      : 'instagram',\n",
    "    'ninstagramgramga'  : 'instagram',\n",
    "    'finstagramht'      : 'instagram',\n",
    "    'binstagram'        : 'instagram',\n",
    "    'hinstagramh'       : 'instagram',\n",
    "    'ninstagramga'      : 'instagram',\n",
    "    'toninstagramht'    : 'instagram',\n",
    "    'minstagramht'      : 'instagram',\n",
    "    'minstagramt'       : 'instagram',\n",
    "    'dwn'               : 'down',\n",
    "    'dawn'              : 'down',\n",
    "    'ta'                : 'that',\n",
    "    'dat'               : 'that',\n",
    "    'dawg'              : 'dude',\n",
    "    'smh'               : 'head',\n",
    "    'fr'                : 'real',\n",
    "    'plz'               : 'please',\n",
    "    'tf'                : 'wtf',\n",
    "    'theyr'             : 'are',\n",
    "    'bc'                : 'because',\n",
    "    'af'                : 'lot',\n",
    "    'u'                 : 'you',\n",
    "    'ppl'               : 'people',\n",
    "    'dm'                : 'message',\n",
    "    'bf'                : 'friend',\n",
    "    'gt'                : 'getting',\n",
    "    'ya'                : 'yes',\n",
    "    'na'                : 'no',\n",
    "    'ur'                : 'your',\n",
    "    'tryna'             : 'to',\n",
    "    'lmfao'             : 'lmao',\n",
    "    'ive'               : 'have'\n",
    "}"
   ]
  },
  {
   "cell_type": "code",
   "execution_count": 3,
   "metadata": {},
   "outputs": [],
   "source": [
    "def remove_points(line):\n",
    "    l = list(line)\n",
    "\n",
    "    for i in range(len(l)):\n",
    "        if i < len(l) - 2 and l[i] == '.' and 'A' <= l[i+2] <= 'Z':\n",
    "            l[i] = ' '\n",
    "\n",
    "    line = ' '.join(l)"
   ]
  },
  {
   "cell_type": "code",
   "execution_count": 4,
   "metadata": {},
   "outputs": [],
   "source": [
    "def reduce_repetition(s):\n",
    "    # Use regular expression to find repeated substrings\n",
    "    pattern = re.compile(r'(.+?)\\1{%d,}' % 2)\n",
    "    match = pattern.search(s)\n",
    "\n",
    "    # Reduce repetition to two occurrences\n",
    "    while match:\n",
    "        repeated_substring = match.group(1)\n",
    "        s = s.replace(match.group(), repeated_substring, 1)\n",
    "        match = pattern.search(s)\n",
    "\n",
    "    return s"
   ]
  },
  {
   "cell_type": "code",
   "execution_count": 5,
   "metadata": {},
   "outputs": [],
   "source": [
    "from nltk.stem import WordNetLemmatizer\n",
    "from nltk.corpus import wordnet\n",
    "import nltk\n",
    "import re\n",
    "\n",
    "\n",
    "lemmatizer = WordNetLemmatizer()\n",
    "\n",
    "def get_wordnet_pos(word):\n",
    "    \"\"\"Map POS tag to first character lemmatize() accepts\"\"\"\n",
    "    tag = nltk.pos_tag([word])[0][1][0].upper()\n",
    "    tag_dict = {\"J\": wordnet.ADJ,\n",
    "                \"N\": wordnet.NOUN,\n",
    "                \"V\": wordnet.VERB,\n",
    "                \"R\": wordnet.ADV}\n",
    "\n",
    "    return tag_dict.get(tag, wordnet.NOUN)\n",
    "\n",
    "def preprocess(sentence, get='stems'):\n",
    "    sent = re.sub(r'@([a-zA-Z0-9_]+)', 'username', sentence).replace('username:', '') # replace first username\n",
    "    sent = re.sub(r'http?://\\S+', 'weblink', sent)\n",
    "    sent = re.sub(r'&amp', '&', sent)\n",
    "\n",
    "    if sent and sent[0] == '.':\n",
    "        sent = sent[1:]\n",
    "\n",
    "    remove_points(sent)\n",
    "    sent = sent   .replace('RT', '').replace('!', ' ').replace('\"', '').replace(\"\\n\", ' ')\\\n",
    "                        .replace(';', ' ').replace('-', ' ').replace(' and ', ' & ').replace('\\'', '')\\\n",
    "                        .replace('?', '.').replace(',', '').replace('~', ' ').replace('|', ' ').replace('°', ' ')\\\n",
    "                        .replace('`', ' ').replace('~', ' ').replace('*', ' ').replace('+', ' ').replace('/', ' ')\\\n",
    "                        .replace(' # ', ' ').replace('http', ' ').replace('t.co', ' ').replace('\\\\', ' ').replace('&#', ' ')\n",
    "    for _ in range(4):\n",
    "        sent = sent.replace('  ', ' ').replace('..', '.').replace(' .', '.') # remove multiple points & space\n",
    "    \n",
    "    if sent and sent[0] == ' ':\n",
    "        sent = sent[1:]\n",
    "\n",
    "    sent = sent.lower()\n",
    "\n",
    "    for old in abbr:\n",
    "        new = abbr[old]\n",
    "        sent = sent.replace( ' ' + old + ' ', ' ' + new + ' ' ) # add some space arround the world to avoid matching a part of a word\n",
    "\n",
    "    sent = reduce_repetition(sent)\n",
    "\n",
    "    if get == 'sentence':\n",
    "        return sent\n",
    "    \n",
    "    tokens = nltk.word_tokenize(sent)\n",
    "\n",
    "    for i in range(len(tokens) - 1, 0, -1):\n",
    "        if len(tokens[i].strip()) == 0 or (len(tokens[i].strip()) == 1 and tokens[i].strip() != 'a' and tokens[i].strip() != 'i' and tokens[i].strip() != '&'):\n",
    "            tokens.pop(i)\n",
    "\n",
    "    if get == 'tokens':\n",
    "        return tokens\n",
    "\n",
    "    stems = [lemmatizer.lemmatize(tok, get_wordnet_pos(tok)) for tok in tokens]\n",
    "\n",
    "    return stems\n"
   ]
  },
  {
   "cell_type": "code",
   "execution_count": 6,
   "metadata": {},
   "outputs": [],
   "source": [
    "dataset_path = './archive/train.csv'\n",
    "data_column  = 'tweet'\n",
    "SVM\t\t\t = False"
   ]
  },
  {
   "cell_type": "code",
   "execution_count": 7,
   "metadata": {},
   "outputs": [],
   "source": [
    "import pandas as pd\n",
    "\n",
    "df = pd.read_csv(dataset_path)"
   ]
  },
  {
   "cell_type": "code",
   "execution_count": 8,
   "metadata": {},
   "outputs": [],
   "source": [
    "df['processed_text'] = df[data_column].apply(preprocess)"
   ]
  },
  {
   "cell_type": "code",
   "execution_count": 9,
   "metadata": {},
   "outputs": [],
   "source": [
    "from gensim.models import Word2Vec\n",
    "import numpy as np\n",
    "\n",
    "# Train a Word2Vec model on your tokens\n",
    "word2vec_model = Word2Vec(sentences=df['processed_text'], vector_size=100, window=5, min_count=1, workers=4)\n",
    "\n",
    "# Generate averaged word vector features\n",
    "def document_vector(word2vec_model, doc):\n",
    "    # remove out-of-vocabulary words\n",
    "    doc = [word for word in doc if word in word2vec_model.wv]\n",
    "    return np.mean(word2vec_model.wv[doc], axis=0)\n",
    "\n",
    "X_word2vec = np.array([document_vector(word2vec_model, doc) for doc in df['processed_text']])\n"
   ]
  },
  {
   "cell_type": "code",
   "execution_count": 10,
   "metadata": {},
   "outputs": [],
   "source": [
    "df['processed_text_str'] = df['processed_text'].apply(lambda x: \" \".join(x))\n",
    "\n",
    "# Then apply TF-IDF vectorization on the resulting strings\n",
    "tfidf_vectorizer = TfidfVectorizer(max_features=5000)\n",
    "X_tfidf = tfidf_vectorizer.fit_transform(df['processed_text_str']).toarray()"
   ]
  },
  {
   "cell_type": "code",
   "execution_count": 11,
   "metadata": {},
   "outputs": [],
   "source": [
    "def label_tweet(row):\n",
    "    \"\"\"\n",
    "    - Hate: If hate_speech_count is the highest count.\n",
    "    - Offensive: If offensive_language_count is the highest count.\n",
    "    - Hate & Offensive: If hate_speech_count and offensive_language_count are equal and higher than neither_count.\n",
    "    - Neither: If neither_count is the highest count.\n",
    "    \"\"\"\n",
    "    if row['hate_speech_count'] > row['offensive_language_count'] and row['hate_speech_count'] > row['neither_count']:\n",
    "        return 'hate'\n",
    "    elif row['offensive_language_count'] > row['hate_speech_count'] and row['offensive_language_count'] > row['neither_count']:\n",
    "        return 'offensive'\n",
    "    elif row['hate_speech_count'] == row['offensive_language_count'] and row['hate_speech_count'] > row['neither_count']:\n",
    "        return 'hate_offensive'\n",
    "    else:\n",
    "        return 'neither'"
   ]
  },
  {
   "cell_type": "code",
   "execution_count": 12,
   "metadata": {},
   "outputs": [],
   "source": [
    "df['label'] = df.apply(label_tweet, axis=1)"
   ]
  },
  {
   "cell_type": "code",
   "execution_count": 13,
   "metadata": {},
   "outputs": [],
   "source": [
    "label_encoder = LabelEncoder()\n",
    "y = label_encoder.fit_transform(df['label'])"
   ]
  },
  {
   "cell_type": "code",
   "execution_count": 14,
   "metadata": {},
   "outputs": [
    {
     "name": "stdout",
     "output_type": "stream",
     "text": [
      "{'hate': 0, 'neither': 1, 'offensive': 2}\n"
     ]
    }
   ],
   "source": [
    "label_mapping = dict(zip(label_encoder.classes_, label_encoder.transform(label_encoder.classes_)))\n",
    "print(label_mapping)"
   ]
  },
  {
   "cell_type": "code",
   "execution_count": 15,
   "metadata": {},
   "outputs": [],
   "source": [
    "X_train, X_test, y_train, y_test = train_test_split(X_tfidf, y, test_size=0.2, random_state=42)"
   ]
  },
  {
   "cell_type": "code",
   "execution_count": 16,
   "metadata": {},
   "outputs": [
    {
     "name": "stdout",
     "output_type": "stream",
     "text": [
      "Best parameters:  {'max_depth': 15, 'n_estimators': 100}\n",
      "Best cross-validation score: 0.78\n"
     ]
    }
   ],
   "source": [
    "from sklearn.ensemble import RandomForestClassifier\n",
    "from sklearn.model_selection import GridSearchCV\n",
    "\n",
    "# Grid search for parameter optimization\n",
    "param_grid = {'n_estimators': [50, 100, 200, 300], 'max_depth': [5, 10, 15, 20]}\n",
    "grid_search = GridSearchCV(RandomForestClassifier(), param_grid, cv=5)\n",
    "grid_search.fit(X_train, y_train)\n",
    "\n",
    "print(\"Best parameters: \", grid_search.best_params_)\n",
    "print(\"Best cross-validation score: {:.2f}\".format(grid_search.best_score_))\n",
    "\n",
    "# Train model with best parameters\n",
    "best_rf_model = grid_search.best_estimator_"
   ]
  },
  {
   "cell_type": "code",
   "execution_count": 17,
   "metadata": {},
   "outputs": [
    {
     "name": "stdout",
     "output_type": "stream",
     "text": [
      "Average cross-validation score: 0.78\n"
     ]
    }
   ],
   "source": [
    "from sklearn.model_selection import cross_val_score\n",
    "\n",
    "cross_val_scores = cross_val_score(best_rf_model, X_tfidf, y, cv=5)\n",
    "print(\"Average cross-validation score: {:.2f}\".format(np.mean(cross_val_scores)))"
   ]
  },
  {
   "cell_type": "code",
   "execution_count": 18,
   "metadata": {},
   "outputs": [],
   "source": [
    "import seaborn as sns\n",
    "\n",
    "def plot_confusion_matrix(cm, class_names):\n",
    "\n",
    "    figure = plt.figure(figsize=(8, 8))\n",
    "    sns.heatmap(cm, annot=True, fmt=\"d\", cmap=plt.cm.Blues, cbar=False,\n",
    "                xticklabels=class_names, yticklabels=class_names)\n",
    "    plt.title(\"Confusion Matrix\")\n",
    "    plt.ylabel('True label')\n",
    "    plt.xlabel('Predicted label')\n",
    "    plt.tight_layout()\n",
    "    return figure"
   ]
  },
  {
   "cell_type": "code",
   "execution_count": 21,
   "metadata": {},
   "outputs": [],
   "source": [
    "# True labels, already known as y_test from your train_test_split operation\n",
    "true_labels = y_test\n",
    "\n",
    "# Predicted labels, which you get by making predictions on your test set\n",
    "predicted_labels = best_rf_model.predict(X_test)"
   ]
  },
  {
   "cell_type": "code",
   "execution_count": 22,
   "metadata": {},
   "outputs": [
    {
     "data": {
      "image/png": "[encoded data removed]",
      "text/plain": [
       "<Figure size 800x800 with 1 Axes>"
      ]
     },
     "execution_count": 22,
     "metadata": {},
     "output_type": "execute_result"
    },
    {
     "data": {
      "image/png": "[encoded data removed]",
      "text/plain": [
       "<Figure size 800x800 with 1 Axes>"
      ]
     },
     "metadata": {},
     "output_type": "display_data"
    }
   ],
   "source": [
    "cm = confusion_matrix(true_labels, predicted_labels)\n",
    "plot_confusion_matrix(cm, label_mapping.keys())"
   ]
  },
  {
   "cell_type": "code",
   "execution_count": null,
   "metadata": {},
   "outputs": [],
   "source": []
  }
 ],
 "metadata": {
  "kernelspec": {
   "display_name": "Python 3",
   "language": "python",
   "name": "python3"
  },
  "language_info": {
   "codemirror_mode": {
    "name": "ipython",
    "version": 3
   },
   "file_extension": ".py",
   "mimetype": "text/x-python",
   "name": "python",
   "nbconvert_exporter": "python",
   "pygments_lexer": "ipython3",
   "version": "3.10.12"
  }
 },
 "nbformat": 4,
 "nbformat_minor": 2
}
